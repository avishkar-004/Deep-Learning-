{
  "nbformat": 4,
  "nbformat_minor": 0,
  "metadata": {
    "colab": {
      "provenance": []
    },
    "kernelspec": {
      "name": "python3",
      "display_name": "Python 3"
    },
    "language_info": {
      "name": "python"
    }
  },
  "cells": [
    {
      "cell_type": "code",
      "source": [
        "import numpy as np\n",
        "import matplotlib.pyplot as plt"
      ],
      "metadata": {
        "id": "M3TU_I1JPdNl"
      },
      "execution_count": 3,
      "outputs": []
    },
    {
      "cell_type": "code",
      "source": [
        "# Activation function and its derivative\n",
        "def sigmoid(x):\n",
        "    return 1 / (1 + np.exp(-x))\n",
        "\n",
        "def sigmoid_derivative(x):\n",
        "    return x * (1 - x)\n",
        "\n",
        "# Mean Squared Error Loss function\n",
        "def mse_loss(y_true, y_pred):\n",
        "    return np.mean((y_true - y_pred) ** 2)\n"
      ],
      "metadata": {
        "id": "-imWXP0dPgF0"
      },
      "execution_count": 4,
      "outputs": []
    },
    {
      "cell_type": "code",
      "source": [
        "# Feedforward Neural Network Class\n",
        "class FeedforwardNeuralNetwork:\n",
        "    def __init__(self, input_size, hidden_size, output_size, learning_rate=0.1):\n",
        "        # Initialize weights and biases\n",
        "        self.input_size = input_size\n",
        "        self.hidden_size = hidden_size\n",
        "        self.output_size = output_size\n",
        "        self.learning_rate = learning_rate\n",
        "\n",
        "        self.weights_input_hidden = np.random.uniform(-1, 1, (self.input_size, self.hidden_size))\n",
        "        self.weights_hidden_output = np.random.uniform(-1, 1, (self.hidden_size, self.output_size))\n",
        "\n",
        "        self.bias_hidden = np.zeros((1, self.hidden_size))\n",
        "        self.bias_output = np.zeros((1, self.output_size))\n",
        "\n",
        "    def forward(self, X):\n",
        "        self.hidden_input = np.dot(X, self.weights_input_hidden) + self.bias_hidden\n",
        "        self.hidden_output = sigmoid(self.hidden_input)\n",
        "\n",
        "        self.final_input = np.dot(self.hidden_output, self.weights_hidden_output) + self.bias_output\n",
        "        self.final_output = sigmoid(self.final_input)\n",
        "\n",
        "        return self.final_output\n",
        "\n",
        "    def backward(self, X, y, output):\n",
        "        # Compute error\n",
        "        error = y - output\n",
        "        output_gradient = error * sigmoid_derivative(output)\n",
        "\n",
        "        hidden_error = np.dot(output_gradient, self.weights_hidden_output.T)\n",
        "        hidden_gradient = hidden_error * sigmoid_derivative(self.hidden_output)\n",
        "\n",
        "        # Update weights and biases\n",
        "        self.weights_hidden_output += np.dot(self.hidden_output.T, output_gradient) * self.learning_rate\n",
        "        self.bias_output += np.sum(output_gradient, axis=0, keepdims=True) * self.learning_rate\n",
        "\n",
        "        self.weights_input_hidden += np.dot(X.T, hidden_gradient) * self.learning_rate\n",
        "        self.bias_hidden += np.sum(hidden_gradient, axis=0, keepdims=True) * self.learning_rate\n",
        "\n",
        "    def train(self, X, y, epochs=1000):\n",
        "        loss_history = []\n",
        "        for epoch in range(epochs):\n",
        "            output = self.forward(X)\n",
        "            self.backward(X, y, output)\n",
        "            loss = mse_loss(y, output)\n",
        "            loss_history.append(loss)\n",
        "\n",
        "            if epoch % 100 == 0:\n",
        "                print(f\"Epoch {epoch}, Loss: {loss:.5f}\")\n",
        "\n",
        "        return loss_history\n"
      ],
      "metadata": {
        "id": "VIo0TGTdPjp8"
      },
      "execution_count": 5,
      "outputs": []
    },
    {
      "cell_type": "code",
      "source": [
        "# Generating a simple dataset\n",
        "np.random.seed(1)\n",
        "X = np.array([[0, 0], [0, 1], [1, 0], [1, 1]])  # XOR input\n",
        "y = np.array([[0], [1], [1], [0]])  # XOR output\n",
        "\n",
        "# Model initialization\n",
        "nn = FeedforwardNeuralNetwork(input_size=2, hidden_size=4, output_size=1, learning_rate=0.5)\n",
        "\n",
        "# Train the neural network\n",
        "loss_history = nn.train(X, y, epochs=10000)"
      ],
      "metadata": {
        "colab": {
          "base_uri": "https://localhost:8080/"
        },
        "id": "bcPJDjf4PnYs",
        "outputId": "7516ad3c-6430-42e7-b1f5-bba4458628da"
      },
      "execution_count": 6,
      "outputs": [
        {
          "output_type": "stream",
          "name": "stdout",
          "text": [
            "Epoch 0, Loss: 0.24973\n",
            "Epoch 100, Loss: 0.24782\n",
            "Epoch 200, Loss: 0.24138\n",
            "Epoch 300, Loss: 0.22216\n",
            "Epoch 400, Loss: 0.19063\n",
            "Epoch 500, Loss: 0.15656\n",
            "Epoch 600, Loss: 0.11499\n",
            "Epoch 700, Loss: 0.07240\n",
            "Epoch 800, Loss: 0.04254\n",
            "Epoch 900, Loss: 0.02598\n",
            "Epoch 1000, Loss: 0.01722\n",
            "Epoch 1100, Loss: 0.01232\n",
            "Epoch 1200, Loss: 0.00935\n",
            "Epoch 1300, Loss: 0.00742\n",
            "Epoch 1400, Loss: 0.00609\n",
            "Epoch 1500, Loss: 0.00513\n",
            "Epoch 1600, Loss: 0.00441\n",
            "Epoch 1700, Loss: 0.00386\n",
            "Epoch 1800, Loss: 0.00342\n",
            "Epoch 1900, Loss: 0.00306\n",
            "Epoch 2000, Loss: 0.00277\n",
            "Epoch 2100, Loss: 0.00252\n",
            "Epoch 2200, Loss: 0.00231\n",
            "Epoch 2300, Loss: 0.00213\n",
            "Epoch 2400, Loss: 0.00198\n",
            "Epoch 2500, Loss: 0.00185\n",
            "Epoch 2600, Loss: 0.00173\n",
            "Epoch 2700, Loss: 0.00162\n",
            "Epoch 2800, Loss: 0.00153\n",
            "Epoch 2900, Loss: 0.00145\n",
            "Epoch 3000, Loss: 0.00137\n",
            "Epoch 3100, Loss: 0.00130\n",
            "Epoch 3200, Loss: 0.00124\n",
            "Epoch 3300, Loss: 0.00118\n",
            "Epoch 3400, Loss: 0.00113\n",
            "Epoch 3500, Loss: 0.00108\n",
            "Epoch 3600, Loss: 0.00104\n",
            "Epoch 3700, Loss: 0.00100\n",
            "Epoch 3800, Loss: 0.00096\n",
            "Epoch 3900, Loss: 0.00092\n",
            "Epoch 4000, Loss: 0.00089\n",
            "Epoch 4100, Loss: 0.00086\n",
            "Epoch 4200, Loss: 0.00083\n",
            "Epoch 4300, Loss: 0.00081\n",
            "Epoch 4400, Loss: 0.00078\n",
            "Epoch 4500, Loss: 0.00076\n",
            "Epoch 4600, Loss: 0.00073\n",
            "Epoch 4700, Loss: 0.00071\n",
            "Epoch 4800, Loss: 0.00069\n",
            "Epoch 4900, Loss: 0.00067\n",
            "Epoch 5000, Loss: 0.00066\n",
            "Epoch 5100, Loss: 0.00064\n",
            "Epoch 5200, Loss: 0.00062\n",
            "Epoch 5300, Loss: 0.00061\n",
            "Epoch 5400, Loss: 0.00059\n",
            "Epoch 5500, Loss: 0.00058\n",
            "Epoch 5600, Loss: 0.00056\n",
            "Epoch 5700, Loss: 0.00055\n",
            "Epoch 5800, Loss: 0.00054\n",
            "Epoch 5900, Loss: 0.00053\n",
            "Epoch 6000, Loss: 0.00052\n",
            "Epoch 6100, Loss: 0.00050\n",
            "Epoch 6200, Loss: 0.00049\n",
            "Epoch 6300, Loss: 0.00048\n",
            "Epoch 6400, Loss: 0.00047\n",
            "Epoch 6500, Loss: 0.00047\n",
            "Epoch 6600, Loss: 0.00046\n",
            "Epoch 6700, Loss: 0.00045\n",
            "Epoch 6800, Loss: 0.00044\n",
            "Epoch 6900, Loss: 0.00043\n",
            "Epoch 7000, Loss: 0.00042\n",
            "Epoch 7100, Loss: 0.00042\n",
            "Epoch 7200, Loss: 0.00041\n",
            "Epoch 7300, Loss: 0.00040\n",
            "Epoch 7400, Loss: 0.00040\n",
            "Epoch 7500, Loss: 0.00039\n",
            "Epoch 7600, Loss: 0.00038\n",
            "Epoch 7700, Loss: 0.00038\n",
            "Epoch 7800, Loss: 0.00037\n",
            "Epoch 7900, Loss: 0.00036\n",
            "Epoch 8000, Loss: 0.00036\n",
            "Epoch 8100, Loss: 0.00035\n",
            "Epoch 8200, Loss: 0.00035\n",
            "Epoch 8300, Loss: 0.00034\n",
            "Epoch 8400, Loss: 0.00034\n",
            "Epoch 8500, Loss: 0.00033\n",
            "Epoch 8600, Loss: 0.00033\n",
            "Epoch 8700, Loss: 0.00032\n",
            "Epoch 8800, Loss: 0.00032\n",
            "Epoch 8900, Loss: 0.00032\n",
            "Epoch 9000, Loss: 0.00031\n",
            "Epoch 9100, Loss: 0.00031\n",
            "Epoch 9200, Loss: 0.00030\n",
            "Epoch 9300, Loss: 0.00030\n",
            "Epoch 9400, Loss: 0.00030\n",
            "Epoch 9500, Loss: 0.00029\n",
            "Epoch 9600, Loss: 0.00029\n",
            "Epoch 9700, Loss: 0.00028\n",
            "Epoch 9800, Loss: 0.00028\n",
            "Epoch 9900, Loss: 0.00028\n"
          ]
        }
      ]
    },
    {
      "cell_type": "code",
      "execution_count": 7,
      "metadata": {
        "colab": {
          "base_uri": "https://localhost:8080/",
          "height": 541
        },
        "id": "kKv-uCnfIy_F",
        "outputId": "f0f1f9f4-f1b3-4f2a-983a-52f913834343"
      },
      "outputs": [
        {
          "output_type": "display_data",
          "data": {
            "text/plain": [
              "<Figure size 640x480 with 1 Axes>"
            ],
            "image/png": "[encoded data removed]"
          },
          "metadata": {}
        },
        {
          "output_type": "stream",
          "name": "stdout",
          "text": [
            "Input: [0 0], Predicted Output: [[0.]]\n",
            "Input: [0 1], Predicted Output: [[1.]]\n",
            "Input: [1 0], Predicted Output: [[1.]]\n",
            "Input: [1 1], Predicted Output: [[0.]]\n"
          ]
        }
      ],
      "source": [
        "# Plot loss history\n",
        "plt.plot(loss_history)\n",
        "plt.xlabel('Epochs')\n",
        "plt.ylabel('Loss')\n",
        "plt.title('Training Loss Over Time')\n",
        "plt.show()\n",
        "\n",
        "# Testing the model\n",
        "for i in range(len(X)):\n",
        "    output = nn.forward(X[i].reshape(1, -1))\n",
        "    print(f\"Input: {X[i]}, Predicted Output: {output.round()}\")\n"
      ]
    }
  ]
}